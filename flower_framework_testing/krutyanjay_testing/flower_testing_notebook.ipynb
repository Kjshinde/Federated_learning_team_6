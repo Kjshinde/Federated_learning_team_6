{
 "cells": [
  {
   "cell_type": "markdown",
   "metadata": {},
   "source": [
    "# Installing Dependencies"
   ]
  },
  {
   "cell_type": "code",
   "execution_count": 7,
   "metadata": {},
   "outputs": [
    {
     "name": "stdout",
     "output_type": "stream",
     "text": [
      "Installed Packages:\n",
      "Package                 Version\n",
      "----------------------- -----------\n",
      "asttokens               3.0.0\n",
      "certifi                 2025.1.31\n",
      "charset-normalizer      3.4.1\n",
      "colorama                0.4.6\n",
      "comm                    0.2.2\n",
      "debugpy                 1.8.13\n",
      "decorator               5.2.1\n",
      "executing               2.2.0\n",
      "idna                    3.10\n",
      "ipykernel               6.29.5\n",
      "ipython                 9.0.1\n",
      "ipython_pygments_lexers 1.1.1\n",
      "jedi                    0.19.2\n",
      "jupyter_client          8.6.3\n",
      "jupyter_core            5.7.2\n",
      "matplotlib-inline       0.1.7\n",
      "nest-asyncio            1.6.0\n",
      "numpy                   2.2.3\n",
      "packaging               24.2\n",
      "pandas                  2.2.3\n",
      "parso                   0.8.4\n",
      "pip                     25.0.1\n",
      "platformdirs            4.3.6\n",
      "prompt_toolkit          3.0.50\n",
      "psutil                  7.0.0\n",
      "pure_eval               0.2.3\n",
      "Pygments                2.19.1\n",
      "python-dateutil         2.9.0.post0\n",
      "pytz                    2025.1\n",
      "pywin32                 308\n",
      "pyzmq                   26.2.1\n",
      "requests                2.32.3\n",
      "six                     1.17.0\n",
      "stack-data              0.6.3\n",
      "tornado                 6.4.2\n",
      "traitlets               5.14.3\n",
      "tzdata                  2025.1\n",
      "urllib3                 2.3.0\n",
      "wcwidth                 0.2.13\n",
      "\n"
     ]
    }
   ],
   "source": [
    "# Write all dependencies to \"requirements.txt\"\n",
    "\n",
    "\n",
    "import os\n",
    "import subprocess\n",
    "\n",
    "# Define your dependencies here\n",
    "dependencies = ['numpy', 'pandas', 'requests']\n",
    "\n",
    "# Check if requirements.txt exists; create it if not\n",
    "if not os.path.exists('requirements.txt'):\n",
    "    with open('requirements.txt', 'w') as f:\n",
    "        f.write('# Requirements file created\\n')\n",
    "\n",
    "# Write dependencies to requirements.txt\n",
    "with open('requirements.txt', 'a') as f:\n",
    "    for dep in dependencies:\n",
    "        f.write(f'{dep}\\n')\n",
    "\n",
    "# Run pip to install dependencies from requirements.txt\n",
    "subprocess.run(['pip', 'install', '-r', 'requirements.txt'])\n",
    "\n",
    "#check if all the dependencies were installed \n",
    "print(\"Installed Packages:\")\n",
    "result = subprocess.run(['pip', 'list'], capture_output=True ,text=True)\n",
    "print(result.stdout)"
   ]
  }
 ],
 "metadata": {
  "kernelspec": {
   "display_name": "flower_venv",
   "language": "python",
   "name": "python3"
  },
  "language_info": {
   "codemirror_mode": {
    "name": "ipython",
    "version": 3
   },
   "file_extension": ".py",
   "mimetype": "text/x-python",
   "name": "python",
   "nbconvert_exporter": "python",
   "pygments_lexer": "ipython3",
   "version": "3.13.1"
  }
 },
 "nbformat": 4,
 "nbformat_minor": 2
}
